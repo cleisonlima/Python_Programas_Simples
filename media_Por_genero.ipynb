{
  "nbformat": 4,
  "nbformat_minor": 0,
  "metadata": {
    "colab": {
      "name": "media_Por_genero",
      "provenance": [],
      "authorship_tag": "ABX9TyN2B4u1myR417Hkout6EgHD",
      "include_colab_link": true
    },
    "kernelspec": {
      "name": "python3",
      "display_name": "Python 3"
    },
    "language_info": {
      "name": "python"
    }
  },
  "cells": [
    {
      "cell_type": "markdown",
      "metadata": {
        "id": "view-in-github",
        "colab_type": "text"
      },
      "source": [
        "<a href=\"https://colab.research.google.com/github/cleisonlima/programas_Python/blob/main/media_Por_genero.ipynb\" target=\"_parent\"><img src=\"https://colab.research.google.com/assets/colab-badge.svg\" alt=\"Open In Colab\"/></a>"
      ]
    },
    {
      "cell_type": "code",
      "execution_count": null,
      "metadata": {
        "id": "pdJai9xT_SwM"
      },
      "outputs": [],
      "source": [
        "mediaIdade   = 0\n",
        "mediaSalario = 0\n",
        "contM        = 0 \n",
        "\n",
        "for numero in range(1, 31):\n",
        "        idade = int(input(\"Qual sua idade: \"))\n",
        "        genero = str(input(\"Qual é o seu gênero? (Masculino – M ou Feminino – F) Obs: Use letras Maiúsculas \"))\n",
        "        salario = int(input(\"Qual é o seu salário? \"))\n",
        "        \n",
        "        mediaIdade += idade\n",
        "        \n",
        "        mediaSalario = salario\n",
        "        \n",
        "        if genero == 'M':\n",
        "            contM = contM + 1\n",
        "\n",
        "        print(\"A média de idade é: \", (mediaIdade/2))\n",
        "        print(\"A média de salários do sexo Masculino é \", (mediaSalario/contM))\n",
        "        \n",
        "        print(\"Fim...\")"
      ]
    }
  ]
}