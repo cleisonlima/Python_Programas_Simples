{
 "cells": [
  {
   "cell_type": "code",
   "execution_count": 2,
   "metadata": {},
   "outputs": [],
   "source": [
    "def lerFrutas():\n",
    "    fruta = input(\"Digite o nome da fruta: \")\n",
    "    print(fruta.upper())\n",
    "    \n",
    "        \n",
    "        "
   ]
  },
  {
   "cell_type": "code",
   "execution_count": 4,
   "metadata": {},
   "outputs": [
    {
     "name": "stdout",
     "output_type": "stream",
     "text": [
      "Digite o nome da fruta: banana\n",
      "BANANA\n",
      "Digite o nome da fruta: maçã\n",
      "MAÇÃ\n",
      "Digite o nome da fruta: jaca\n",
      "JACA\n",
      "Digite o nome da fruta: pera\n",
      "PERA\n",
      "Digite o nome da fruta: jabuticaba\n",
      "JABUTICABA\n"
     ]
    }
   ],
   "source": [
    "for i in range(1,6):\n",
    "        lerFrutas()"
   ]
  }
 ],
 "metadata": {
  "kernelspec": {
   "display_name": "Python 3",
   "language": "python",
   "name": "python3"
  },
  "language_info": {
   "codemirror_mode": {
    "name": "ipython",
    "version": 3
   },
   "file_extension": ".py",
   "mimetype": "text/x-python",
   "name": "python",
   "nbconvert_exporter": "python",
   "pygments_lexer": "ipython3",
   "version": "3.8.3"
  }
 },
 "nbformat": 4,
 "nbformat_minor": 4
}
