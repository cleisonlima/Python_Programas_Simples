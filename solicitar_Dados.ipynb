{
  "nbformat": 4,
  "nbformat_minor": 0,
  "metadata": {
    "colab": {
      "name": "solicitar_Dados",
      "provenance": [],
      "authorship_tag": "ABX9TyNQW2DnvJL2fXDSzKdQ0lDH",
      "include_colab_link": true
    },
    "kernelspec": {
      "name": "python3",
      "display_name": "Python 3"
    },
    "language_info": {
      "name": "python"
    }
  },
  "cells": [
    {
      "cell_type": "markdown",
      "metadata": {
        "id": "view-in-github",
        "colab_type": "text"
      },
      "source": [
        "<a href=\"https://colab.research.google.com/github/cleisonlima/programas_Python/blob/main/solicitar_Dados.ipynb\" target=\"_parent\"><img src=\"https://colab.research.google.com/assets/colab-badge.svg\" alt=\"Open In Colab\"/></a>"
      ]
    },
    {
      "cell_type": "code",
      "execution_count": null,
      "metadata": {
        "id": "Rp70CILCAxXl"
      },
      "outputs": [],
      "source": [
        "import numpy as np \n",
        "\n",
        "numeros = []\n",
        "for i in range(20):\n",
        "    numeros.append(int(input(\"Digite a nota: \")))\n",
        "    \n",
        "print(\"Todas as notas: \", (numeros))\n",
        "print(\"A média aritmética das notas: \", (np.average(numeros)))\n",
        "print(\"A variância das notas: \", (np.var(numeros)))\n",
        "print(\"Desvio padrão: \", (np.std(numeros)))\n",
        "\n",
        "print(\"Fim...\")"
      ]
    }
  ]
}