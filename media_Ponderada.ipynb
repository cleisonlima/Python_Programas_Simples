{
  "nbformat": 4,
  "nbformat_minor": 0,
  "metadata": {
    "colab": {
      "name": "media_Ponderada",
      "provenance": [],
      "authorship_tag": "ABX9TyOoX+261XlpMpndMTMUJQVv",
      "include_colab_link": true
    },
    "kernelspec": {
      "name": "python3",
      "display_name": "Python 3"
    },
    "language_info": {
      "name": "python"
    }
  },
  "cells": [
    {
      "cell_type": "markdown",
      "metadata": {
        "id": "view-in-github",
        "colab_type": "text"
      },
      "source": [
        "<a href=\"https://colab.research.google.com/github/cleisonlima/programas_Python/blob/main/media_Ponderada.ipynb\" target=\"_parent\"><img src=\"https://colab.research.google.com/assets/colab-badge.svg\" alt=\"Open In Colab\"/></a>"
      ]
    },
    {
      "cell_type": "code",
      "execution_count": null,
      "metadata": {
        "id": "qFaQUoBABQ7E"
      },
      "outputs": [],
      "source": [
        "import numpy as np \n",
        "\n",
        "media1 = 0\n",
        "media2 = 0\n",
        "media3 = 0\n",
        "\n",
        "# Dados do Primeiro candidato\n",
        "nota1 = (float(input(\"Digite a nota de Química do Primeiro candidato: \")))\n",
        "peso1 = (float(input(\"Peso 1: \")))\n",
        "nota2 = (float(input(\"Digite a nota de Física do Primeiro candidato: \")))\n",
        "peso2 = (float(input(\"Peso 2: \")))\n",
        "\n",
        "# Dados do Segundo candidato\n",
        "nota3 = (float(input(\"Digite a nota de Química do Segundo candidato: \")))\n",
        "peso3 = (float(input(\"Peso 1: \")))\n",
        "nota4 = (float(input(\"Digite a nota de Física do Segundo candidato: \")))\n",
        "peso4 = (float(input(\"Peso 2: \")))\n",
        "\n",
        "# Dados do Terceiro candidato\n",
        "nota5 = (float(input(\"Digite a nota de Quimica do Terceiro candidato: \")))\n",
        "peso5 = (float(input(\"Peso 1: \")))\n",
        "nota6 = (float(input(\"Digite a nota de Física do Terceiro candidato: \")))\n",
        "peso6 = (float(input(\"Peso 2: \")))\n",
        "\n",
        "# Calcula média\n",
        "media1 = (nota1*peso1 + nota2*peso2) / (peso1+peso2)\n",
        "media2 = (nota3*peso3 + nota4*peso4) / (peso3+peso4)\n",
        "media3 = (nota5*peso5 + nota6*peso6) / (peso5+peso6)\n",
        "\n",
        "# Imprime a média dos candidatos\n",
        "print(\"Média ponderada do primeiro candidato é: \", media1)\n",
        "print(\"Média ponderada do segundo candidato é: \", media2)\n",
        "print(\"Média ponderada do terceiro candidato é: \", media3)\n",
        "\n",
        "# Armazenando os dados em uma lista\n",
        "list = [media1, media2, media3]\n",
        "\n",
        "print ('O maior nota é: ', max(list), 'Parabéns a você que obteve essa nota!') \n",
        "\n",
        "print(\"Fim...\")"
      ]
    }
  ]
}