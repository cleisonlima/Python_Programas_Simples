{
 "cells": [
  {
   "cell_type": "code",
   "execution_count": 2,
   "metadata": {},
   "outputs": [
    {
     "name": "stdout",
     "output_type": "stream",
     "text": [
      "Digite o valor 1: 2\n",
      "Digite o valor 2: 4\n",
      "6\n",
      "6\n"
     ]
    }
   ],
   "source": [
    "def soma(a,b):\n",
    "    \n",
    "    return a+b\n",
    "\n",
    "valor1 = int(input(\"Digite o valor 1: \"))\n",
    "valor2 = int(input(\"Digite o valor 2: \"))\n",
    "\n",
    "\n",
    "resultado = soma(valor1, valor2)\n",
    "print(resultado)\n",
    "\n",
    "#ou\n",
    "\n",
    "print(soma(valor1, valor2))"
   ]
  },
  {
   "cell_type": "code",
   "execution_count": null,
   "metadata": {},
   "outputs": [],
   "source": [
    "def"
   ]
  }
 ],
 "metadata": {
  "kernelspec": {
   "display_name": "Python 3",
   "language": "python",
   "name": "python3"
  },
  "language_info": {
   "codemirror_mode": {
    "name": "ipython",
    "version": 3
   },
   "file_extension": ".py",
   "mimetype": "text/x-python",
   "name": "python",
   "nbconvert_exporter": "python",
   "pygments_lexer": "ipython3",
   "version": "3.8.5"
  }
 },
 "nbformat": 4,
 "nbformat_minor": 4
}
