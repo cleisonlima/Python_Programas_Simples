{
  "nbformat": 4,
  "nbformat_minor": 0,
  "metadata": {
    "colab": {
      "name": "divisao_Simples",
      "provenance": [],
      "authorship_tag": "ABX9TyPFPj+3KFyMXdUVKLE+kUmN",
      "include_colab_link": true
    },
    "kernelspec": {
      "name": "python3",
      "display_name": "Python 3"
    },
    "language_info": {
      "name": "python"
    }
  },
  "cells": [
    {
      "cell_type": "markdown",
      "metadata": {
        "id": "view-in-github",
        "colab_type": "text"
      },
      "source": [
        "<a href=\"https://colab.research.google.com/github/cleisonlima/programas_Python/blob/main/divisao_Simples.ipynb\" target=\"_parent\"><img src=\"https://colab.research.google.com/assets/colab-badge.svg\" alt=\"Open In Colab\"/></a>"
      ]
    },
    {
      "cell_type": "code",
      "execution_count": null,
      "metadata": {
        "id": "o27OA-t8Bm6m"
      },
      "outputs": [],
      "source": [
        "alunos = (float(input(\"Informe a quantidade de alunos: \")))\n",
        "elementos = (float(input(\"Informe a quantidade de elementos de cada grupo: \")))\n",
        "\n",
        "print(\"A quantide de grupos que podem ser formados é: \", (alunos/elementos))"
      ]
    }
  ]
}